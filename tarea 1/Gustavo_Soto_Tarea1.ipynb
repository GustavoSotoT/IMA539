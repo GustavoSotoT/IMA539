{
 "cells": [
  {
   "attachments": {},
   "cell_type": "markdown",
   "metadata": {},
   "source": [
    "# <center> Tarea 1 <center>\n",
    "##### <center> Gustavo Antonio Soto Torres <center>"
   ]
  },
  {
   "cell_type": "code",
   "execution_count": 1,
   "metadata": {},
   "outputs": [
    {
     "name": "stdout",
     "output_type": "stream",
     "text": [
      "Mis algoritmos asignados son: \t ['SVM Kernel no lineal', 'Perceptron', 'Random Forest']\n"
     ]
    }
   ],
   "source": [
    "import random\n",
    "mi_semilla_asignada = 19\n",
    "random.seed(mi_semilla_asignada)\n",
    "algoritmos = ['Perceptron','KNN','Regresion Logistica','SVM Kernel lineal',\n",
    "'Random Forest','SVM Kernel no lineal','Arbol de Decision']\n",
    "asignados = random.sample(algoritmos,k=3)\n",
    "print(\"Mis algoritmos asignados son: \\t\",asignados)"
   ]
  },
  {
   "attachments": {},
   "cell_type": "markdown",
   "metadata": {},
   "source": [
    "Librerías:"
   ]
  },
  {
   "cell_type": "code",
   "execution_count": 41,
   "metadata": {},
   "outputs": [],
   "source": [
    "import pandas as pd\n",
    "import numpy as np\n",
    "import matplotlib.pyplot as plt\n",
    "from sklearn.model_selection import train_test_split\n",
    "from sklearn.ensemble import RandomForestClassifier\n",
    "from sklearn.metrics import confusion_matrix\n",
    "from sklearn.model_selection import GridSearchCV"
   ]
  },
  {
   "attachments": {},
   "cell_type": "markdown",
   "metadata": {},
   "source": [
    "1. Leer la base de datos y almacenarla como un objeto DataFrame de Pandas.\n",
    "Mostrar estad´ısticas descriptivas de los datos y generar un gr´afico de tortas\n",
    "que muestre el porcentaje del total de datos que pertenece a cada clase y\n",
    "la cantidad de datos en las clases."
   ]
  },
  {
   "attachments": {},
   "cell_type": "markdown",
   "metadata": {},
   "source": [
    "Lectura de datos:"
   ]
  },
  {
   "cell_type": "code",
   "execution_count": 3,
   "metadata": {},
   "outputs": [],
   "source": [
    "df=pd.read_csv(\"desafio1.csv\")"
   ]
  },
  {
   "cell_type": "markdown",
   "metadata": {},
   "source": [
    "Estadisticas descriptivas por columnas:"
   ]
  },
  {
   "cell_type": "code",
   "execution_count": 23,
   "metadata": {},
   "outputs": [
    {
     "data": {
      "text/html": [
       "<div>\n",
       "<style scoped>\n",
       "    .dataframe tbody tr th:only-of-type {\n",
       "        vertical-align: middle;\n",
       "    }\n",
       "\n",
       "    .dataframe tbody tr th {\n",
       "        vertical-align: top;\n",
       "    }\n",
       "\n",
       "    .dataframe thead th {\n",
       "        text-align: right;\n",
       "    }\n",
       "</style>\n",
       "<table border=\"1\" class=\"dataframe\">\n",
       "  <thead>\n",
       "    <tr style=\"text-align: right;\">\n",
       "      <th></th>\n",
       "      <th>col1</th>\n",
       "      <th>col2</th>\n",
       "      <th>col3</th>\n",
       "      <th>col4</th>\n",
       "      <th>col5</th>\n",
       "      <th>col6</th>\n",
       "      <th>col7</th>\n",
       "      <th>col8</th>\n",
       "      <th>col9</th>\n",
       "      <th>col10</th>\n",
       "      <th>col11</th>\n",
       "      <th>col2.1</th>\n",
       "      <th>col13</th>\n",
       "      <th>col14</th>\n",
       "      <th>col15</th>\n",
       "      <th>col16</th>\n",
       "      <th>class</th>\n",
       "    </tr>\n",
       "  </thead>\n",
       "  <tbody>\n",
       "    <tr>\n",
       "      <th>count</th>\n",
       "      <td>1.221900e+04</td>\n",
       "      <td>1.221900e+04</td>\n",
       "      <td>1.221900e+04</td>\n",
       "      <td>1.221900e+04</td>\n",
       "      <td>1.221900e+04</td>\n",
       "      <td>1.221900e+04</td>\n",
       "      <td>1.221900e+04</td>\n",
       "      <td>1.221900e+04</td>\n",
       "      <td>1.221900e+04</td>\n",
       "      <td>1.221900e+04</td>\n",
       "      <td>1.221900e+04</td>\n",
       "      <td>1.221900e+04</td>\n",
       "      <td>1.221900e+04</td>\n",
       "      <td>1.221900e+04</td>\n",
       "      <td>1.221900e+04</td>\n",
       "      <td>1.221900e+04</td>\n",
       "      <td>12219.000000</td>\n",
       "    </tr>\n",
       "    <tr>\n",
       "      <th>mean</th>\n",
       "      <td>-6.307531e-13</td>\n",
       "      <td>1.913738e-15</td>\n",
       "      <td>4.943677e-15</td>\n",
       "      <td>-2.175997e-15</td>\n",
       "      <td>-1.591583e-15</td>\n",
       "      <td>9.339939e-15</td>\n",
       "      <td>-9.668999e-16</td>\n",
       "      <td>-2.958487e-15</td>\n",
       "      <td>7.035719e-15</td>\n",
       "      <td>-4.475782e-16</td>\n",
       "      <td>-2.773132e-15</td>\n",
       "      <td>8.993361e-16</td>\n",
       "      <td>1.349483e-14</td>\n",
       "      <td>3.628300e-15</td>\n",
       "      <td>6.479436e-16</td>\n",
       "      <td>-1.374438e-14</td>\n",
       "      <td>0.526311</td>\n",
       "    </tr>\n",
       "    <tr>\n",
       "      <th>std</th>\n",
       "      <td>1.771044e+03</td>\n",
       "      <td>4.060168e+01</td>\n",
       "      <td>3.033986e+01</td>\n",
       "      <td>2.079600e+01</td>\n",
       "      <td>1.463176e+01</td>\n",
       "      <td>1.237660e+01</td>\n",
       "      <td>9.947385e+00</td>\n",
       "      <td>8.794881e+00</td>\n",
       "      <td>7.720631e+00</td>\n",
       "      <td>7.070037e+00</td>\n",
       "      <td>6.622048e+00</td>\n",
       "      <td>6.197803e+00</td>\n",
       "      <td>5.898404e+00</td>\n",
       "      <td>5.537911e+00</td>\n",
       "      <td>5.367500e+00</td>\n",
       "      <td>5.205060e+00</td>\n",
       "      <td>0.499328</td>\n",
       "    </tr>\n",
       "    <tr>\n",
       "      <th>min</th>\n",
       "      <td>-3.215002e+03</td>\n",
       "      <td>-8.234705e+01</td>\n",
       "      <td>-7.663188e+01</td>\n",
       "      <td>-6.366942e+01</td>\n",
       "      <td>-4.460410e+01</td>\n",
       "      <td>-4.741168e+01</td>\n",
       "      <td>-3.846725e+01</td>\n",
       "      <td>-3.332998e+01</td>\n",
       "      <td>-3.343610e+01</td>\n",
       "      <td>-3.034360e+01</td>\n",
       "      <td>-3.110183e+01</td>\n",
       "      <td>-2.929475e+01</td>\n",
       "      <td>-3.136731e+01</td>\n",
       "      <td>-3.172294e+01</td>\n",
       "      <td>-2.449263e+01</td>\n",
       "      <td>-2.879841e+01</td>\n",
       "      <td>0.000000</td>\n",
       "    </tr>\n",
       "    <tr>\n",
       "      <th>25%</th>\n",
       "      <td>-1.527250e+03</td>\n",
       "      <td>-3.345794e+01</td>\n",
       "      <td>-2.741397e+01</td>\n",
       "      <td>-1.507583e+01</td>\n",
       "      <td>-1.061320e+01</td>\n",
       "      <td>-8.439584e+00</td>\n",
       "      <td>-6.559292e+00</td>\n",
       "      <td>-6.226877e+00</td>\n",
       "      <td>-5.431583e+00</td>\n",
       "      <td>-3.645304e+00</td>\n",
       "      <td>-2.944676e+00</td>\n",
       "      <td>-3.797916e+00</td>\n",
       "      <td>-3.471450e+00</td>\n",
       "      <td>-2.861255e+00</td>\n",
       "      <td>-3.532482e+00</td>\n",
       "      <td>-3.033015e+00</td>\n",
       "      <td>0.000000</td>\n",
       "    </tr>\n",
       "    <tr>\n",
       "      <th>50%</th>\n",
       "      <td>-5.797416e-03</td>\n",
       "      <td>-5.368655e+00</td>\n",
       "      <td>-3.451920e-01</td>\n",
       "      <td>-3.376398e+00</td>\n",
       "      <td>-1.629645e+00</td>\n",
       "      <td>-1.303072e+00</td>\n",
       "      <td>-5.419920e-01</td>\n",
       "      <td>-4.820456e-01</td>\n",
       "      <td>-2.748362e-01</td>\n",
       "      <td>-8.234637e-02</td>\n",
       "      <td>2.301157e-01</td>\n",
       "      <td>1.168603e-01</td>\n",
       "      <td>5.906104e-02</td>\n",
       "      <td>-1.936942e-01</td>\n",
       "      <td>-2.261829e-01</td>\n",
       "      <td>-1.817478e-01</td>\n",
       "      <td>1.000000</td>\n",
       "    </tr>\n",
       "    <tr>\n",
       "      <th>75%</th>\n",
       "      <td>1.527240e+03</td>\n",
       "      <td>2.877879e+01</td>\n",
       "      <td>2.009263e+01</td>\n",
       "      <td>1.386965e+01</td>\n",
       "      <td>8.686272e+00</td>\n",
       "      <td>8.401221e+00</td>\n",
       "      <td>6.476544e+00</td>\n",
       "      <td>6.077144e+00</td>\n",
       "      <td>5.287385e+00</td>\n",
       "      <td>3.965215e+00</td>\n",
       "      <td>3.195794e+00</td>\n",
       "      <td>3.698425e+00</td>\n",
       "      <td>3.743215e+00</td>\n",
       "      <td>2.714833e+00</td>\n",
       "      <td>3.487121e+00</td>\n",
       "      <td>3.033918e+00</td>\n",
       "      <td>1.000000</td>\n",
       "    </tr>\n",
       "    <tr>\n",
       "      <th>max</th>\n",
       "      <td>3.215007e+03</td>\n",
       "      <td>2.204068e+02</td>\n",
       "      <td>9.052155e+01</td>\n",
       "      <td>7.248711e+01</td>\n",
       "      <td>6.060830e+01</td>\n",
       "      <td>5.447463e+01</td>\n",
       "      <td>4.273434e+01</td>\n",
       "      <td>3.537719e+01</td>\n",
       "      <td>4.127726e+01</td>\n",
       "      <td>3.203633e+01</td>\n",
       "      <td>3.836186e+01</td>\n",
       "      <td>3.943600e+01</td>\n",
       "      <td>3.263311e+01</td>\n",
       "      <td>5.044380e+01</td>\n",
       "      <td>2.657115e+01</td>\n",
       "      <td>3.923529e+01</td>\n",
       "      <td>1.000000</td>\n",
       "    </tr>\n",
       "  </tbody>\n",
       "</table>\n",
       "</div>"
      ],
      "text/plain": [
       "               col1          col2          col3          col4          col5  \\\n",
       "count  1.221900e+04  1.221900e+04  1.221900e+04  1.221900e+04  1.221900e+04   \n",
       "mean  -6.307531e-13  1.913738e-15  4.943677e-15 -2.175997e-15 -1.591583e-15   \n",
       "std    1.771044e+03  4.060168e+01  3.033986e+01  2.079600e+01  1.463176e+01   \n",
       "min   -3.215002e+03 -8.234705e+01 -7.663188e+01 -6.366942e+01 -4.460410e+01   \n",
       "25%   -1.527250e+03 -3.345794e+01 -2.741397e+01 -1.507583e+01 -1.061320e+01   \n",
       "50%   -5.797416e-03 -5.368655e+00 -3.451920e-01 -3.376398e+00 -1.629645e+00   \n",
       "75%    1.527240e+03  2.877879e+01  2.009263e+01  1.386965e+01  8.686272e+00   \n",
       "max    3.215007e+03  2.204068e+02  9.052155e+01  7.248711e+01  6.060830e+01   \n",
       "\n",
       "               col6          col7          col8          col9         col10  \\\n",
       "count  1.221900e+04  1.221900e+04  1.221900e+04  1.221900e+04  1.221900e+04   \n",
       "mean   9.339939e-15 -9.668999e-16 -2.958487e-15  7.035719e-15 -4.475782e-16   \n",
       "std    1.237660e+01  9.947385e+00  8.794881e+00  7.720631e+00  7.070037e+00   \n",
       "min   -4.741168e+01 -3.846725e+01 -3.332998e+01 -3.343610e+01 -3.034360e+01   \n",
       "25%   -8.439584e+00 -6.559292e+00 -6.226877e+00 -5.431583e+00 -3.645304e+00   \n",
       "50%   -1.303072e+00 -5.419920e-01 -4.820456e-01 -2.748362e-01 -8.234637e-02   \n",
       "75%    8.401221e+00  6.476544e+00  6.077144e+00  5.287385e+00  3.965215e+00   \n",
       "max    5.447463e+01  4.273434e+01  3.537719e+01  4.127726e+01  3.203633e+01   \n",
       "\n",
       "              col11        col2.1         col13         col14         col15  \\\n",
       "count  1.221900e+04  1.221900e+04  1.221900e+04  1.221900e+04  1.221900e+04   \n",
       "mean  -2.773132e-15  8.993361e-16  1.349483e-14  3.628300e-15  6.479436e-16   \n",
       "std    6.622048e+00  6.197803e+00  5.898404e+00  5.537911e+00  5.367500e+00   \n",
       "min   -3.110183e+01 -2.929475e+01 -3.136731e+01 -3.172294e+01 -2.449263e+01   \n",
       "25%   -2.944676e+00 -3.797916e+00 -3.471450e+00 -2.861255e+00 -3.532482e+00   \n",
       "50%    2.301157e-01  1.168603e-01  5.906104e-02 -1.936942e-01 -2.261829e-01   \n",
       "75%    3.195794e+00  3.698425e+00  3.743215e+00  2.714833e+00  3.487121e+00   \n",
       "max    3.836186e+01  3.943600e+01  3.263311e+01  5.044380e+01  2.657115e+01   \n",
       "\n",
       "              col16         class  \n",
       "count  1.221900e+04  12219.000000  \n",
       "mean  -1.374438e-14      0.526311  \n",
       "std    5.205060e+00      0.499328  \n",
       "min   -2.879841e+01      0.000000  \n",
       "25%   -3.033015e+00      0.000000  \n",
       "50%   -1.817478e-01      1.000000  \n",
       "75%    3.033918e+00      1.000000  \n",
       "max    3.923529e+01      1.000000  "
      ]
     },
     "execution_count": 23,
     "metadata": {},
     "output_type": "execute_result"
    }
   ],
   "source": [
    "df.describe()"
   ]
  },
  {
   "cell_type": "markdown",
   "metadata": {},
   "source": [
    "Grafico de torta sobre la columna \"class\""
   ]
  },
  {
   "cell_type": "code",
   "execution_count": 4,
   "metadata": {},
   "outputs": [
    {
     "data": {
      "text/plain": [
       "1    6431\n",
       "0    5788\n",
       "Name: class, dtype: int64"
      ]
     },
     "execution_count": 4,
     "metadata": {},
     "output_type": "execute_result"
    }
   ],
   "source": [
    "df[\"class\"].value_counts()"
   ]
  },
  {
   "cell_type": "code",
   "execution_count": 21,
   "metadata": {},
   "outputs": [
    {
     "data": {
      "image/png": "[encoded data removed]",
      "text/plain": [
       "<Figure size 432x288 with 1 Axes>"
      ]
     },
     "metadata": {},
     "output_type": "display_data"
    }
   ],
   "source": [
    "plt.pie([df[\"class\"].sum(),-df[\"class\"].sum()+len(df[\"class\"])],labels=[\"Clase 1\",\"Clase 0\"])\n",
    "plt.legend()\n",
    "plt.show()"
   ]
  },
  {
   "attachments": {},
   "cell_type": "markdown",
   "metadata": {},
   "source": [
    "2. Generar los conjuntos (X, y) y realizar un muestreo aleatorio simple y estratificado,\n",
    "tomando el 30% de los datos para construir el conjunto de test.\n",
    "Con el 70% de datos restantes, construir el conjunto de entrenamiento.\n",
    "Mostrar en gr´aficos de tortas las distribuciones de los datos en las clases\n",
    "de los conjuntos de test y de entrenamiento."
   ]
  },
  {
   "attachments": {},
   "cell_type": "markdown",
   "metadata": {},
   "source": [
    "Separamos el Data Frame en dos partes: \"y\" que corresponde a las etiquetas de clase y \"x\" que corresponde a los datos."
   ]
  },
  {
   "cell_type": "code",
   "execution_count": 28,
   "metadata": {},
   "outputs": [],
   "source": [
    "y=df[\"class\"]\n",
    "x=df.drop(columns=[\"class\"])"
   ]
  },
  {
   "cell_type": "code",
   "execution_count": 30,
   "metadata": {},
   "outputs": [],
   "source": [
    "X_train, X_test, y_train, y_test = train_test_split(x, y, test_size=0.3,stratify=y)"
   ]
  },
  {
   "attachments": {},
   "cell_type": "markdown",
   "metadata": {},
   "source": [
    "Grfico de tortas para conjunto de testeo:"
   ]
  },
  {
   "cell_type": "code",
   "execution_count": 31,
   "metadata": {},
   "outputs": [
    {
     "data": {
      "image/png": "[encoded data removed]",
      "text/plain": [
       "<Figure size 432x288 with 1 Axes>"
      ]
     },
     "metadata": {},
     "output_type": "display_data"
    }
   ],
   "source": [
    "plt.pie([y_test.sum(),-y_test.sum()+len(y_test)],labels=[\"Clase 1\",\"Clase 0\"])\n",
    "plt.legend()\n",
    "plt.show()"
   ]
  },
  {
   "attachments": {},
   "cell_type": "markdown",
   "metadata": {},
   "source": [
    "Gráfico de torta para conjunto de entrenamiento:"
   ]
  },
  {
   "cell_type": "code",
   "execution_count": 32,
   "metadata": {},
   "outputs": [
    {
     "data": {
      "image/png": "[encoded data removed]",
      "text/plain": [
       "<Figure size 432x288 with 1 Axes>"
      ]
     },
     "metadata": {},
     "output_type": "display_data"
    }
   ],
   "source": [
    "plt.pie([y_train.sum(),-y_train.sum()+len(y_train)],labels=[\"Clase 1\",\"Clase 0\"])\n",
    "plt.legend()\n",
    "plt.show()"
   ]
  },
  {
   "cell_type": "markdown",
   "metadata": {},
   "source": [
    "1. Con el conjunto de entrenamiento generado en la pregunta anterior, obtener\n",
    "tres modelos de clasificaci´on usando los algoritmos asignados. Describir\n",
    "los hiperpar´ametros utilizados. Recuerde estandarizar los datos en el caso\n",
    "que sea necesario."
   ]
  },
  {
   "attachments": {},
   "cell_type": "markdown",
   "metadata": {},
   "source": [
    "# Random Forest"
   ]
  },
  {
   "cell_type": "code",
   "execution_count": 40,
   "metadata": {},
   "outputs": [
    {
     "data": {
      "text/html": [
       "<style>#sk-container-id-2 {color: black;background-color: white;}#sk-container-id-2 pre{padding: 0;}#sk-container-id-2 div.sk-toggleable {background-color: white;}#sk-container-id-2 label.sk-toggleable__label {cursor: pointer;display: block;width: 100%;margin-bottom: 0;padding: 0.3em;box-sizing: border-box;text-align: center;}#sk-container-id-2 label.sk-toggleable__label-arrow:before {content: \"▸\";float: left;margin-right: 0.25em;color: #696969;}#sk-container-id-2 label.sk-toggleable__label-arrow:hover:before {color: black;}#sk-container-id-2 div.sk-estimator:hover label.sk-toggleable__label-arrow:before {color: black;}#sk-container-id-2 div.sk-toggleable__content {max-height: 0;max-width: 0;overflow: hidden;text-align: left;background-color: #f0f8ff;}#sk-container-id-2 div.sk-toggleable__content pre {margin: 0.2em;color: black;border-radius: 0.25em;background-color: #f0f8ff;}#sk-container-id-2 input.sk-toggleable__control:checked~div.sk-toggleable__content {max-height: 200px;max-width: 100%;overflow: auto;}#sk-container-id-2 input.sk-toggleable__control:checked~label.sk-toggleable__label-arrow:before {content: \"▾\";}#sk-container-id-2 div.sk-estimator input.sk-toggleable__control:checked~label.sk-toggleable__label {background-color: #d4ebff;}#sk-container-id-2 div.sk-label input.sk-toggleable__control:checked~label.sk-toggleable__label {background-color: #d4ebff;}#sk-container-id-2 input.sk-hidden--visually {border: 0;clip: rect(1px 1px 1px 1px);clip: rect(1px, 1px, 1px, 1px);height: 1px;margin: -1px;overflow: hidden;padding: 0;position: absolute;width: 1px;}#sk-container-id-2 div.sk-estimator {font-family: monospace;background-color: #f0f8ff;border: 1px dotted black;border-radius: 0.25em;box-sizing: border-box;margin-bottom: 0.5em;}#sk-container-id-2 div.sk-estimator:hover {background-color: #d4ebff;}#sk-container-id-2 div.sk-parallel-item::after {content: \"\";width: 100%;border-bottom: 1px solid gray;flex-grow: 1;}#sk-container-id-2 div.sk-label:hover label.sk-toggleable__label {background-color: #d4ebff;}#sk-container-id-2 div.sk-serial::before {content: \"\";position: absolute;border-left: 1px solid gray;box-sizing: border-box;top: 0;bottom: 0;left: 50%;z-index: 0;}#sk-container-id-2 div.sk-serial {display: flex;flex-direction: column;align-items: center;background-color: white;padding-right: 0.2em;padding-left: 0.2em;position: relative;}#sk-container-id-2 div.sk-item {position: relative;z-index: 1;}#sk-container-id-2 div.sk-parallel {display: flex;align-items: stretch;justify-content: center;background-color: white;position: relative;}#sk-container-id-2 div.sk-item::before, #sk-container-id-2 div.sk-parallel-item::before {content: \"\";position: absolute;border-left: 1px solid gray;box-sizing: border-box;top: 0;bottom: 0;left: 50%;z-index: -1;}#sk-container-id-2 div.sk-parallel-item {display: flex;flex-direction: column;z-index: 1;position: relative;background-color: white;}#sk-container-id-2 div.sk-parallel-item:first-child::after {align-self: flex-end;width: 50%;}#sk-container-id-2 div.sk-parallel-item:last-child::after {align-self: flex-start;width: 50%;}#sk-container-id-2 div.sk-parallel-item:only-child::after {width: 0;}#sk-container-id-2 div.sk-dashed-wrapped {border: 1px dashed gray;margin: 0 0.4em 0.5em 0.4em;box-sizing: border-box;padding-bottom: 0.4em;background-color: white;}#sk-container-id-2 div.sk-label label {font-family: monospace;font-weight: bold;display: inline-block;line-height: 1.2em;}#sk-container-id-2 div.sk-label-container {text-align: center;}#sk-container-id-2 div.sk-container {/* jupyter's `normalize.less` sets `[hidden] { display: none; }` but bootstrap.min.css set `[hidden] { display: none !important; }` so we also need the `!important` here to be able to override the default hidden behavior on the sphinx rendered scikit-learn.org. See: https://github.com/scikit-learn/scikit-learn/issues/21755 */display: inline-block !important;position: relative;}#sk-container-id-2 div.sk-text-repr-fallback {display: none;}</style><div id=\"sk-container-id-2\" class=\"sk-top-container\"><div class=\"sk-text-repr-fallback\"><pre>RandomForestClassifier()</pre><b>In a Jupyter environment, please rerun this cell to show the HTML representation or trust the notebook. <br />On GitHub, the HTML representation is unable to render, please try loading this page with nbviewer.org.</b></div><div class=\"sk-container\" hidden><div class=\"sk-item\"><div class=\"sk-estimator sk-toggleable\"><input class=\"sk-toggleable__control sk-hidden--visually\" id=\"sk-estimator-id-2\" type=\"checkbox\" checked><label for=\"sk-estimator-id-2\" class=\"sk-toggleable__label sk-toggleable__label-arrow\">RandomForestClassifier</label><div class=\"sk-toggleable__content\"><pre>RandomForestClassifier()</pre></div></div></div></div></div>"
      ],
      "text/plain": [
       "RandomForestClassifier()"
      ]
     },
     "execution_count": 40,
     "metadata": {},
     "output_type": "execute_result"
    }
   ],
   "source": [
    "clf=RandomForestClassifier()\n",
    "clf.fit(X_train,y_train)"
   ]
  },
  {
   "attachments": {},
   "cell_type": "markdown",
   "metadata": {},
   "source": [
    "Para buscar los mejores hiperparámetros se realizo una busqueda mallada usando grid_search de SkLearn:"
   ]
  },
  {
   "cell_type": "code",
   "execution_count": 46,
   "metadata": {},
   "outputs": [
    {
     "name": "stdout",
     "output_type": "stream",
     "text": [
      "Mejores hiperparámetros:  {'max_depth': None, 'min_samples_split': 2, 'n_estimators': 200}\n",
      "Mejor puntuación:  0.9931020811330878\n"
     ]
    }
   ],
   "source": [
    "param_grid = {\n",
    "    'n_estimators': [100, 200, 300,400,500],\n",
    "    'max_depth': [None,1,2,3,4, 5, 10],\n",
    "    'min_samples_split': [2, 5, 10]\n",
    "}\n",
    "\n",
    "# Realizar la búsqueda de parámetros\n",
    "grid_search = GridSearchCV(clf, param_grid, cv=5, n_jobs=-1)\n",
    "grid_search.fit(X_train, y_train)\n",
    "\n",
    "# Obtener los resultados\n",
    "best_params = grid_search.best_params_\n",
    "best_score = grid_search.best_score_\n",
    "\n",
    "# Imprimir los resultados\n",
    "print(\"Mejores hiperparámetros: \", best_params)\n",
    "print(\"Mejor puntuación: \", best_score)"
   ]
  },
  {
   "attachments": {},
   "cell_type": "markdown",
   "metadata": {},
   "source": [
    "# SVM Kernel no lineal"
   ]
  },
  {
   "cell_type": "code",
   "execution_count": null,
   "metadata": {},
   "outputs": [],
   "source": []
  }
 ],
 "metadata": {
  "kernelspec": {
   "display_name": "base",
   "language": "python",
   "name": "python3"
  },
  "language_info": {
   "codemirror_mode": {
    "name": "ipython",
    "version": 3
   },
   "file_extension": ".py",
   "mimetype": "text/x-python",
   "name": "python",
   "nbconvert_exporter": "python",
   "pygments_lexer": "ipython3",
   "version": "3.9.7"
  },
  "orig_nbformat": 4
 },
 "nbformat": 4,
 "nbformat_minor": 2
}
